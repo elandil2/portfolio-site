{
 "cells": [
  {
   "cell_type": "code",
   "execution_count": 13,
   "id": "a3a7d27b",
   "metadata": {},
   "outputs": [],
   "source": [
    "# ====================\n",
    "# BOOK RECOMMENDATION SYSTEM\n",
    "# ====================\n",
    "\n",
    "# This comprehensive book recommendation system demonstrates expertise in recommendation algorithms,\n",
    "# data analysis, and machine learning modeling. The project showcases the implementation of multiple\n",
    "# recommendation approaches: popularity-based, collaborative filtering, and content-based filtering.\n"
   ]
  },
  {
   "cell_type": "code",
   "execution_count": 14,
   "id": "2b191b08",
   "metadata": {},
   "outputs": [
    {
     "name": "stdout",
     "output_type": "stream",
     "text": [
      "Requirement already satisfied: pandas in c:\\users\\safix\\desktop\\upwork_projects\\book_recommendation\\book_rec_env\\lib\\site-packages (2.3.2)\n",
      "Requirement already satisfied: numpy in c:\\users\\safix\\desktop\\upwork_projects\\book_recommendation\\book_rec_env\\lib\\site-packages (2.3.3)\n",
      "Requirement already satisfied: matplotlib in c:\\users\\safix\\desktop\\upwork_projects\\book_recommendation\\book_rec_env\\lib\\site-packages (3.10.6)\n",
      "Requirement already satisfied: seaborn in c:\\users\\safix\\desktop\\upwork_projects\\book_recommendation\\book_rec_env\\lib\\site-packages (0.13.2)\n",
      "Requirement already satisfied: scikit-learn in c:\\users\\safix\\desktop\\upwork_projects\\book_recommendation\\book_rec_env\\lib\\site-packages (1.7.2)\n",
      "Requirement already satisfied: python-dateutil>=2.8.2 in c:\\users\\safix\\desktop\\upwork_projects\\book_recommendation\\book_rec_env\\lib\\site-packages (from pandas) (2.9.0.post0)\n",
      "Requirement already satisfied: pytz>=2020.1 in c:\\users\\safix\\desktop\\upwork_projects\\book_recommendation\\book_rec_env\\lib\\site-packages (from pandas) (2025.2)\n",
      "Requirement already satisfied: tzdata>=2022.7 in c:\\users\\safix\\desktop\\upwork_projects\\book_recommendation\\book_rec_env\\lib\\site-packages (from pandas) (2025.2)\n",
      "Requirement already satisfied: contourpy>=1.0.1 in c:\\users\\safix\\desktop\\upwork_projects\\book_recommendation\\book_rec_env\\lib\\site-packages (from matplotlib) (1.3.3)\n",
      "Requirement already satisfied: cycler>=0.10 in c:\\users\\safix\\desktop\\upwork_projects\\book_recommendation\\book_rec_env\\lib\\site-packages (from matplotlib) (0.12.1)\n",
      "Requirement already satisfied: fonttools>=4.22.0 in c:\\users\\safix\\desktop\\upwork_projects\\book_recommendation\\book_rec_env\\lib\\site-packages (from matplotlib) (4.60.1)\n",
      "Requirement already satisfied: kiwisolver>=1.3.1 in c:\\users\\safix\\desktop\\upwork_projects\\book_recommendation\\book_rec_env\\lib\\site-packages (from matplotlib) (1.4.9)\n",
      "Requirement already satisfied: packaging>=20.0 in c:\\users\\safix\\desktop\\upwork_projects\\book_recommendation\\book_rec_env\\lib\\site-packages (from matplotlib) (25.0)\n",
      "Requirement already satisfied: pillow>=8 in c:\\users\\safix\\desktop\\upwork_projects\\book_recommendation\\book_rec_env\\lib\\site-packages (from matplotlib) (11.3.0)\n",
      "Requirement already satisfied: pyparsing>=2.3.1 in c:\\users\\safix\\desktop\\upwork_projects\\book_recommendation\\book_rec_env\\lib\\site-packages (from matplotlib) (3.2.5)\n",
      "Requirement already satisfied: scipy>=1.8.0 in c:\\users\\safix\\desktop\\upwork_projects\\book_recommendation\\book_rec_env\\lib\\site-packages (from scikit-learn) (1.16.2)\n",
      "Requirement already satisfied: joblib>=1.2.0 in c:\\users\\safix\\desktop\\upwork_projects\\book_recommendation\\book_rec_env\\lib\\site-packages (from scikit-learn) (1.5.2)\n",
      "Requirement already satisfied: threadpoolctl>=3.1.0 in c:\\users\\safix\\desktop\\upwork_projects\\book_recommendation\\book_rec_env\\lib\\site-packages (from scikit-learn) (3.6.0)\n",
      "Requirement already satisfied: six>=1.5 in c:\\users\\safix\\desktop\\upwork_projects\\book_recommendation\\book_rec_env\\lib\\site-packages (from python-dateutil>=2.8.2->pandas) (1.17.0)\n"
     ]
    },
    {
     "name": "stderr",
     "output_type": "stream",
     "text": [
      "\n",
      "[notice] A new release of pip is available: 24.2 -> 25.2\n",
      "[notice] To update, run: python.exe -m pip install --upgrade pip\n"
     ]
    }
   ],
   "source": [
    "!pip install pandas numpy matplotlib seaborn scikit-learn\n"
   ]
  },
  {
   "cell_type": "code",
   "execution_count": 15,
   "id": "7dc86ade",
   "metadata": {},
   "outputs": [],
   "source": [
    "# %%\n",
    "# ====================\n",
    "# 1. IMPORTS & SETUP\n",
    "# ====================\n",
    "\n",
    "import pandas as pd\n",
    "import numpy as np\n",
    "import matplotlib.pyplot as plt\n",
    "import seaborn as sns\n",
    "from sklearn.metrics.pairwise import cosine_similarity\n",
    "from sklearn.feature_extraction.text import CountVectorizer\n",
    "import re\n",
    "import warnings\n",
    "warnings.filterwarnings('ignore')\n",
    "\n",
    "# Set style\n",
    "sns.set_style('whitegrid')\n",
    "plt.rcParams['figure.figsize'] = (12, 8)"
   ]
  },
  {
   "cell_type": "code",
   "execution_count": 16,
   "id": "4eb3207e",
   "metadata": {},
   "outputs": [
    {
     "name": "stdout",
     "output_type": "stream",
     "text": [
      "Dataset Shapes:\n",
      "Books: (271360, 8)\n",
      "Ratings: (1149780, 3)\n",
      "Users: (278858, 3)\n"
     ]
    }
   ],
   "source": [
    "# %%\n",
    "# ====================\n",
    "# 2. DATA LOADING\n",
    "# ====================\n",
    "\n",
    "# Load datasets\n",
    "books = pd.read_csv('Books.csv', encoding='latin-1', low_memory=False)\n",
    "ratings = pd.read_csv('Ratings.csv', encoding='latin-1', low_memory=False)\n",
    "users = pd.read_csv('Users.csv', encoding='latin-1', low_memory=False)\n",
    "\n",
    "print(\"Dataset Shapes:\")\n",
    "print(f\"Books: {books.shape}\")\n",
    "print(f\"Ratings: {ratings.shape}\")\n",
    "print(f\"Users: {users.shape}\")"
   ]
  },
  {
   "cell_type": "code",
   "execution_count": 17,
   "id": "ea3bde55",
   "metadata": {},
   "outputs": [
    {
     "name": "stdout",
     "output_type": "stream",
     "text": [
      "After preprocessing: (383837, 6)\n"
     ]
    }
   ],
   "source": [
    "# %%\n",
    "# ====================\n",
    "# 3. DATA PREPROCESSING\n",
    "# ====================\n",
    "\n",
    "# Merge datasets\n",
    "books_data = books.merge(ratings, on=\"ISBN\")\n",
    "df = books_data.copy()\n",
    "\n",
    "# Preprocessing\n",
    "df.dropna(inplace=True)\n",
    "df.reset_index(drop=True, inplace=True)\n",
    "df.drop(columns=[\"ISBN\", \"Year-Of-Publication\", \"Image-URL-S\", \"Image-URL-M\"], axis=1, inplace=True)\n",
    "df.drop(index=df[df[\"Book-Rating\"] == 0].index, inplace=True)\n",
    "df[\"Book-Title\"] = df[\"Book-Title\"].apply(lambda x: re.sub(r\"[\\W_]+\", \" \", x).strip())\n",
    "\n",
    "print(f\"After preprocessing: {df.shape}\")"
   ]
  },
  {
   "cell_type": "code",
   "execution_count": 18,
   "id": "b8869052",
   "metadata": {},
   "outputs": [
    {
     "name": "stdout",
     "output_type": "stream",
     "text": [
      "Top 10 Popular Books:\n",
      "                                          Book-Title  NumberOfVotes  \\\n",
      "0    Harry Potter and the Prisoner of Azkaban Book 3            277   \n",
      "1                              To Kill a Mockingbird            267   \n",
      "2  Harry Potter and the Sorcerer s Stone Harry Po...            315   \n",
      "3     Harry Potter and the Chamber of Secrets Book 2            326   \n",
      "4  Tuesdays with Morrie An Old Man a Young Man an...            250   \n",
      "5                            The Secret Life of Bees            406   \n",
      "6                                  The Da Vinci Code            494   \n",
      "7                           The Lovely Bones A Novel            707   \n",
      "8                  The Red Tent Bestselling Backlist            383   \n",
      "9     Where the Heart Is Oprah s Book Club Paperback            295   \n",
      "\n",
      "   AverageRatings  Popularity  \n",
      "0        9.043321    9.016348  \n",
      "1        8.977528    8.950773  \n",
      "2        8.936508    8.914407  \n",
      "3        8.840491    8.820574  \n",
      "4        8.588000    8.567099  \n",
      "5        8.477833    8.466205  \n",
      "6        8.439271    8.430080  \n",
      "7        8.185290    8.180632  \n",
      "8        8.182768    8.174253  \n",
      "9        8.142373    8.132034  \n"
     ]
    }
   ],
   "source": [
    "# %%\n",
    "# ====================\n",
    "# 4. POPULARITY-BASED RECOMMENDATION SYSTEM\n",
    "# ====================\n",
    "\n",
    "def popular_books(df, n=100):\n",
    "    rating_count = df.groupby(\"Book-Title\").count()[\"Book-Rating\"].reset_index()\n",
    "    rating_count.rename(columns={\"Book-Rating\": \"NumberOfVotes\"}, inplace=True)\n",
    "\n",
    "    rating_average = df.groupby(\"Book-Title\")[\"Book-Rating\"].mean().reset_index()\n",
    "    rating_average.rename(columns={\"Book-Rating\": \"AverageRatings\"}, inplace=True)\n",
    "\n",
    "    popularBooks = rating_count.merge(rating_average, on=\"Book-Title\")\n",
    "\n",
    "    C = popularBooks[\"AverageRatings\"].mean()\n",
    "    m = popularBooks[\"NumberOfVotes\"].quantile(0.90)\n",
    "\n",
    "    popularBooks = popularBooks[popularBooks[\"NumberOfVotes\"] >= 250]\n",
    "    popularBooks[\"Popularity\"] = popularBooks.apply(\n",
    "        lambda x: ((x[\"NumberOfVotes\"] * x[\"AverageRatings\"]) + (m * C)) / (x[\"NumberOfVotes\"] + m), axis=1\n",
    "    )\n",
    "\n",
    "    popularBooks = popularBooks.sort_values(by=\"Popularity\", ascending=False)\n",
    "    return popularBooks[[\"Book-Title\", \"NumberOfVotes\", \"AverageRatings\", \"Popularity\"]].reset_index(drop=True).head(n)\n",
    "\n",
    "# Get top 10 popular books\n",
    "top_books = popular_books(df, 10)\n",
    "print(\"Top 10 Popular Books:\")\n",
    "print(top_books)"
   ]
  },
  {
   "cell_type": "code",
   "execution_count": 19,
   "id": "a0a281d1",
   "metadata": {},
   "outputs": [
    {
     "name": "stdout",
     "output_type": "stream",
     "text": [
      "Recommendations for 'The Da Vinci Code':\n",
      "2. Where the Heart Is Oprah s Book Club Paperback (Correlation: 0.835)\n",
      "3. Fahrenheit 451 (Correlation: 0.768)\n",
      "4. 1st to Die A Novel (Correlation: 0.644)\n",
      "5. Harry Potter and the Order of the Phoenix Book 5 (Correlation: 0.612)\n",
      "6. Summer Sisters (Correlation: 0.565)\n",
      "❌ COULD NOT FIND ❌\n"
     ]
    }
   ],
   "source": [
    "# %%\n",
    "# ====================\n",
    "# 5. ITEM-BASED COLLABORATIVE FILTERING\n",
    "# ====================\n",
    "\n",
    "def item_based(bookTitle):\n",
    "    bookTitle = str(bookTitle)\n",
    "\n",
    "    if bookTitle in df[\"Book-Title\"].values:\n",
    "        rating_count = pd.DataFrame(df[\"Book-Title\"].value_counts())\n",
    "        rating_count.columns = [\"count\"]  # Rename the column\n",
    "        rare_books = rating_count[rating_count[\"count\"] <= 200].index\n",
    "        common_books = df[~df[\"Book-Title\"].isin(rare_books)]\n",
    "\n",
    "        if bookTitle in rare_books:\n",
    "            most_common = pd.Series(common_books[\"Book-Title\"].unique()).sample(3).values\n",
    "            print(\"No Recommendations for this Book ☹️ \\n \")\n",
    "            print(\"YOU MAY TRY: \\n \")\n",
    "            print(f\"{most_common[0]}\", \"\\n\")\n",
    "            print(f\"{most_common[1]}\", \"\\n\")\n",
    "            print(f\"{most_common[2]}\", \"\\n\")\n",
    "        else:\n",
    "            common_books_pivot = common_books.pivot_table(index=[\"User-ID\"], columns=[\"Book-Title\"], values=\"Book-Rating\")\n",
    "            title = common_books_pivot[bookTitle]\n",
    "            recommendation_df = pd.DataFrame(common_books_pivot.corrwith(title).sort_values(ascending=False)).reset_index(drop=False)\n",
    "\n",
    "            if bookTitle in [title for title in recommendation_df[\"Book-Title\"]]:\n",
    "                recommendation_df = recommendation_df.drop(recommendation_df[recommendation_df[\"Book-Title\"] == bookTitle].index[0])\n",
    "\n",
    "            less_rating = []\n",
    "            for i in recommendation_df[\"Book-Title\"]:\n",
    "                if df[df[\"Book-Title\"] == i][\"Book-Rating\"].mean() < 5:\n",
    "                    less_rating.append(i)\n",
    "\n",
    "            if recommendation_df.shape[0] - len(less_rating) > 5:\n",
    "                recommendation_df = recommendation_df[~recommendation_df[\"Book-Title\"].isin(less_rating)]\n",
    "\n",
    "            recommendation_df = recommendation_df[0:5]\n",
    "            recommendation_df.columns = [\"Book-Title\", \"Correlation\"]\n",
    "\n",
    "            print(f\"Recommendations for '{bookTitle}':\")\n",
    "            for i, row in recommendation_df.iterrows():\n",
    "                print(f\"{i+1}. {row['Book-Title']} (Correlation: {row['Correlation']:.3f})\")\n",
    "\n",
    "    else:\n",
    "        print(\"❌ COULD NOT FIND ❌\")\n",
    "\n",
    "# Test item-based recommendations\n",
    "item_based(\"The Da Vinci Code\")\n",
    "item_based(\"Harry Potter and the Chamber of Secrets (Book 2)\")"
   ]
  },
  {
   "cell_type": "code",
   "execution_count": 20,
   "id": "46edf1c2",
   "metadata": {},
   "outputs": [
    {
     "name": "stdout",
     "output_type": "stream",
     "text": [
      "\n",
      "User 11676 favorites:\n",
      "723. New Vegetarian Bold and Beautiful Recipes for Every Occasion (Rating: 10)\n",
      "3495. Timeline (Rating: 10)\n",
      "5239. Purity in Death (Rating: 10)\n",
      "1008442. Un peu plus loin sur la droite (Rating: 10)\n",
      "1008453. Felix und das liebe Geld (Rating: 10)\n",
      "\n",
      "Recommended books for User 11676:\n",
      "1. The Ruby in the Smoke Sally Lockhart Trilogy Book 1\n",
      "2. A Time to Kill\n",
      "3. Holding the Dream Dream Trilogy\n",
      "4. Number the Stars Yearling Newbery\n",
      "5. Silent Honor\n"
     ]
    }
   ],
   "source": [
    "# %%\n",
    "# ====================\n",
    "# 6. USER-BASED COLLABORATIVE FILTERING\n",
    "# ====================\n",
    "\n",
    "# Filter users who have rated more than 200 books\n",
    "new_df = df[df['User-ID'].map(df['User-ID'].value_counts()) > 200]\n",
    "users_pivot = new_df.pivot_table(index=[\"User-ID\"], columns=[\"Book-Title\"], values=\"Book-Rating\")\n",
    "users_pivot.fillna(0, inplace=True)\n",
    "\n",
    "def users_choice(id):\n",
    "    users_fav = new_df[new_df[\"User-ID\"] == id].sort_values([\"Book-Rating\"], ascending=False)[0:5]\n",
    "    return users_fav\n",
    "\n",
    "def user_based(new_df, id):\n",
    "    if id not in new_df[\"User-ID\"].values:\n",
    "        print(\"❌ User NOT FOUND ❌\")\n",
    "        return []\n",
    "\n",
    "    index = np.where(users_pivot.index == id)[0][0]\n",
    "    similarity = cosine_similarity(users_pivot)\n",
    "    similar_users = list(enumerate(similarity[index]))\n",
    "    similar_users = sorted(similar_users, key=lambda x: x[1], reverse=True)[0:5]\n",
    "\n",
    "    user_rec = []\n",
    "    for i in similar_users:\n",
    "        data = df[df[\"User-ID\"] == users_pivot.index[i[0]]]\n",
    "        user_rec.extend(list(data.drop_duplicates(\"User-ID\")[\"User-ID\"].values))\n",
    "\n",
    "    return user_rec[:5]\n",
    "\n",
    "def common(new_df, user, user_id):\n",
    "    x = new_df[new_df[\"User-ID\"] == user_id]\n",
    "    recommend_books = []\n",
    "    user = list(user)\n",
    "\n",
    "    for i in user:\n",
    "        y = new_df[(new_df[\"User-ID\"] == i)]\n",
    "        books = y.loc[~y[\"Book-Title\"].isin(x[\"Book-Title\"]), :]\n",
    "        books = books.sort_values([\"Book-Rating\"], ascending=False)[0:5]\n",
    "        recommend_books.extend(books[\"Book-Title\"].values)\n",
    "\n",
    "    return recommend_books[0:5]\n",
    "\n",
    "# Test user-based recommendations\n",
    "user_id = new_df[\"User-ID\"].value_counts().index[0]  # Most active user\n",
    "user_choice_df = users_choice(user_id)\n",
    "user_based_rec = user_based(new_df, user_id)\n",
    "books_for_user = common(new_df, user_based_rec, user_id)\n",
    "\n",
    "print(f\"\\nUser {user_id} favorites:\")\n",
    "for i, row in user_choice_df.iterrows():\n",
    "    print(f\"{i+1}. {row['Book-Title']} (Rating: {row['Book-Rating']})\")\n",
    "\n",
    "print(f\"\\nRecommended books for User {user_id}:\")\n",
    "for i, book in enumerate(books_for_user, 1):\n",
    "    print(f\"{i}. {book}\")\n"
   ]
  },
  {
   "cell_type": "code",
   "execution_count": 21,
   "id": "be93b2fa",
   "metadata": {},
   "outputs": [
    {
     "name": "stdout",
     "output_type": "stream",
     "text": [
      "Content-based recommendations for 'The Da Vinci Code':\n",
      "1. The Catcher in the Rye (Avg Rating: 7.7)\n",
      "2. The Brethren (Avg Rating: 7.4)\n",
      "3. The Firm (Avg Rating: 7.8)\n",
      "4. The Chamber (Avg Rating: 7.4)\n",
      "5. The Partner (Avg Rating: 7.7)\n",
      "❌ COULD NOT FIND ❌\n"
     ]
    }
   ],
   "source": [
    "# %%\n",
    "# ====================\n",
    "# 7. CONTENT-BASED FILTERING\n",
    "# ====================\n",
    "\n",
    "def content_based(bookTitle):\n",
    "    bookTitle = str(bookTitle)\n",
    "\n",
    "    if bookTitle in df[\"Book-Title\"].values:\n",
    "        rating_count = pd.DataFrame(df[\"Book-Title\"].value_counts())\n",
    "        rating_count.columns = [\"count\"]  # Rename the column\n",
    "        rare_books = rating_count[rating_count[\"count\"] <= 200].index\n",
    "        common_books = df[~df[\"Book-Title\"].isin(rare_books)]\n",
    "\n",
    "        if bookTitle in rare_books:\n",
    "            most_common = pd.Series(common_books[\"Book-Title\"].unique()).sample(3).values\n",
    "            print(\"No Recommendations for this Book ☹️ \\n \")\n",
    "            print(\"YOU MAY TRY: \\n \")\n",
    "            print(f\"{most_common[0]}\", \"\\n\")\n",
    "            print(f\"{most_common[1]}\", \"\\n\")\n",
    "            print(f\"{most_common[2]}\", \"\\n\")\n",
    "        else:\n",
    "            common_books = common_books.drop_duplicates(subset=[\"Book-Title\"])\n",
    "            common_books.reset_index(inplace=True)\n",
    "            common_books[\"index\"] = [i for i in range(common_books.shape[0])]\n",
    "            targets = [\"Book-Title\", \"Book-Author\", \"Publisher\"]\n",
    "            common_books[\"all_features\"] = [\" \".join(common_books[targets].iloc[i,].values) for i in range(common_books[targets].shape[0])]\n",
    "\n",
    "            vectorizer = CountVectorizer()\n",
    "            common_booksVector = vectorizer.fit_transform(common_books[\"all_features\"])\n",
    "            similarity = cosine_similarity(common_booksVector)\n",
    "\n",
    "            index = common_books[common_books[\"Book-Title\"] == bookTitle][\"index\"].values[0]\n",
    "            similar_books = list(enumerate(similarity[index]))\n",
    "            similar_booksSorted = sorted(similar_books, key=lambda x: x[1], reverse=True)[1:6]\n",
    "\n",
    "            books = []\n",
    "            for i in range(len(similar_booksSorted)):\n",
    "                books.append(common_books[common_books[\"index\"] == similar_booksSorted[i][0]][\"Book-Title\"].item())\n",
    "\n",
    "            print(f\"Content-based recommendations for '{bookTitle}':\")\n",
    "            for i, book in enumerate(books, 1):\n",
    "                rating = df[df[\"Book-Title\"] == book][\"Book-Rating\"].mean()\n",
    "                print(f\"{i}. {book} (Avg Rating: {rating:.1f})\")\n",
    "\n",
    "    else:\n",
    "        print(\"❌ COULD NOT FIND ❌\")\n",
    "\n",
    "# Test content-based recommendations\n",
    "content_based(\"The Da Vinci Code\")\n",
    "content_based(\"Harry Potter and the Sorcerer's Stone (Harry Potter (Paperback))\")"
   ]
  },
  {
   "cell_type": "code",
   "execution_count": 22,
   "id": "2c6c8394",
   "metadata": {},
   "outputs": [
    {
     "name": "stdout",
     "output_type": "stream",
     "text": [
      "\n",
      "============================================================\n",
      "BOOK RECOMMENDATION SYSTEM - SUMMARY\n",
      "============================================================\n",
      "\n",
      "📊 Dataset Statistics:\n",
      "• Total books: 271,360\n",
      "• Total ratings: 1,149,780\n",
      "• Total users: 278,858\n",
      "• Active users (rated >200 books): 118\n",
      "\n",
      "🤖 Implemented Models:\n",
      "• Popularity-based: Recommends trending books\n",
      "• Item-based Collaborative: Finds similar books\n",
      "• User-based Collaborative: Finds similar users\n",
      "• Content-based: Uses book metadata similarity\n",
      "\n",
      "💡 Key Insights:\n",
      "• Most users give implicit feedback (rating=0)\n",
      "• Popular books dominate recommendations\n",
      "• Collaborative filtering works best for active users\n",
      "• Content-based helps with cold-start problems\n",
      "\n",
      "🚀 Production Considerations:\n",
      "• Filter active users and popular items\n",
      "• Use hybrid approaches for better results\n",
      "• Implement A/B testing for recommendation quality\n",
      "• Consider real-time updates and user feedback\n"
     ]
    }
   ],
   "source": [
    "# %%\n",
    "# ====================\n",
    "# 8. MODEL EVALUATION & RESULTS\n",
    "# ====================\n",
    "\n",
    "print(\"\\n\" + \"=\"*60)\n",
    "print(\"BOOK RECOMMENDATION SYSTEM - SUMMARY\")\n",
    "print(\"=\"*60)\n",
    "\n",
    "print(\"\\n📊 Dataset Statistics:\")\n",
    "print(f\"• Total books: {books.shape[0]:,}\")\n",
    "print(f\"• Total ratings: {ratings.shape[0]:,}\")\n",
    "print(f\"• Total users: {users.shape[0]:,}\")\n",
    "print(f\"• Active users (rated >200 books): {len(new_df['User-ID'].unique()):,}\")\n",
    "\n",
    "print(\"\\n🤖 Implemented Models:\")\n",
    "print(\"• Popularity-based: Recommends trending books\")\n",
    "print(\"• Item-based Collaborative: Finds similar books\")\n",
    "print(\"• User-based Collaborative: Finds similar users\")\n",
    "print(\"• Content-based: Uses book metadata similarity\")\n",
    "\n",
    "print(\"\\n💡 Key Insights:\")\n",
    "print(\"• Most users give implicit feedback (rating=0)\")\n",
    "print(\"• Popular books dominate recommendations\")\n",
    "print(\"• Collaborative filtering works best for active users\")\n",
    "print(\"• Content-based helps with cold-start problems\")\n",
    "\n",
    "print(\"\\n🚀 Production Considerations:\")\n",
    "print(\"• Filter active users and popular items\")\n",
    "print(\"• Use hybrid approaches for better results\")\n",
    "print(\"• Implement A/B testing for recommendation quality\")\n",
    "print(\"• Consider real-time updates and user feedback\")"
   ]
  },
  {
   "cell_type": "code",
   "execution_count": 28,
   "id": "65a8ebee",
   "metadata": {},
   "outputs": [
    {
     "name": "stdout",
     "output_type": "stream",
     "text": [
      "❌ COULD NOT FIND ❌\n"
     ]
    }
   ],
   "source": [
    "item_based(\"Harry Potter and the Sorcerer's Stone\")"
   ]
  },
  {
   "cell_type": "code",
   "execution_count": 27,
   "id": "fa7bfa83",
   "metadata": {},
   "outputs": [
    {
     "name": "stdout",
     "output_type": "stream",
     "text": [
      "No Recommendations for this Book ☹️ \n",
      " \n",
      "YOU MAY TRY: \n",
      " \n",
      "The Secret Life of Bees \n",
      "\n",
      "Harry Potter and the Order of the Phoenix Book 5 \n",
      "\n",
      "The Poisonwood Bible A Novel \n",
      "\n"
     ]
    }
   ],
   "source": [
    "content_based(\"Utopia\")"
   ]
  },
  {
   "cell_type": "code",
   "execution_count": null,
   "id": "c80b705f",
   "metadata": {},
   "outputs": [],
   "source": []
  },
  {
   "cell_type": "code",
   "execution_count": null,
   "id": "d6e379f3",
   "metadata": {},
   "outputs": [],
   "source": []
  },
  {
   "cell_type": "code",
   "execution_count": null,
   "id": "7f87e5cc",
   "metadata": {},
   "outputs": [],
   "source": []
  }
 ],
 "metadata": {
  "kernelspec": {
   "display_name": "book_rec_env",
   "language": "python",
   "name": "python3"
  },
  "language_info": {
   "codemirror_mode": {
    "name": "ipython",
    "version": 3
   },
   "file_extension": ".py",
   "mimetype": "text/x-python",
   "name": "python",
   "nbconvert_exporter": "python",
   "pygments_lexer": "ipython3",
   "version": "3.12.7"
  }
 },
 "nbformat": 4,
 "nbformat_minor": 5
}
